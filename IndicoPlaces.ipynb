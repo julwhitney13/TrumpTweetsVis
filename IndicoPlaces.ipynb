{
 "cells": [
  {
   "cell_type": "code",
   "execution_count": 14,
   "metadata": {},
   "outputs": [],
   "source": [
    "import indicoio\n",
    "import pandas as pd\n",
    "import json\n",
    "\n",
    "indicoio.config.api_key = '1852c9b99662d24d209b677612bd1095'\n",
    "\n",
    "df = pd.read_csv('data/tweetsSince2014.csv')\n",
    "tw = list(df.text)\n",
    "\n",
    "# batch example\n",
    "chunks = [tw[x:x+500] for x in range(0, len(tw), 500)]\n",
    "\n",
    "sentiments = []\n",
    "orgs = []\n",
    "political = []\n",
    "\n",
    "for chunk in chunks:\n",
    "    sentiments.append(indicoio.sentiment_hq(chunk))\n",
    "    orgs.append(indicoio.organizations(chunk))\n",
    "    political.append(indicoio.political(chunk))\n",
    "\n",
    "with open('data/trumpTweetSentimentSince2014.json', 'w+') as fp:\n",
    "    json.dump(sentiments, fp)\n",
    "\n",
    "with open('data/trumpTweetOrganizationsSince2014.json', 'w+') as fp:\n",
    "    json.dump(orgs, fp)\n",
    "\n",
    "with open('data/trumpTweetPoliticalSince2014.json', 'w+') as fp:\n",
    "    json.dump(political, fp)\n"
   ]
  },
  {
   "cell_type": "code",
   "execution_count": 17,
   "metadata": {},
   "outputs": [],
   "source": [
    "better_format = []\n",
    "data = json.load(open('data/trumpTweetPoliticalSince2014.json'))\n",
    "\n",
    "for l in data:\n",
    "    for tweet in l:\n",
    "        if tweet:\n",
    "            better_format.append(tweet)\n",
    "\n",
    "with open('data/trumpTweetPoliticalSince2014.json', 'w+') as fp:\n",
    "    json.dump(better_format, fp)"
   ]
  },
  {
   "cell_type": "code",
   "execution_count": null,
   "metadata": {},
   "outputs": [],
   "source": []
  },
  {
   "cell_type": "code",
   "execution_count": null,
   "metadata": {},
   "outputs": [],
   "source": []
  }
 ],
 "metadata": {
  "kernelspec": {
   "display_name": "Python [conda env:ipykernel_py3]",
   "language": "python",
   "name": "conda-env-ipykernel_py3-py"
  },
  "language_info": {
   "codemirror_mode": {
    "name": "ipython",
    "version": 3
   },
   "file_extension": ".py",
   "mimetype": "text/x-python",
   "name": "python",
   "nbconvert_exporter": "python",
   "pygments_lexer": "ipython3",
   "version": "3.6.5"
  }
 },
 "nbformat": 4,
 "nbformat_minor": 2
}
